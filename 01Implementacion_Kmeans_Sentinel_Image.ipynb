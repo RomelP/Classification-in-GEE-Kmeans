{
 "cells": [
  {
   "cell_type": "markdown",
   "source": [
    "## Implementación de Kmeans - SENTINEL\n",
    "### @utor: Romel Principe A #"
   ],
   "metadata": {}
  },
  {
   "cell_type": "markdown",
   "source": [
    "## Script realiza : \n",
    "\n",
    "+ Carga datos Sentinel - Surface Reflectance\n",
    "+ Corte del area \n",
    "+ Cálculo de índices físicos\n",
    "+ Clasificación con Kmeans"
   ],
   "metadata": {}
  },
  {
   "cell_type": "markdown",
   "source": [
    "### 1.- Autenticar e inicilizar"
   ],
   "metadata": {}
  },
  {
   "cell_type": "code",
   "execution_count": 2,
   "source": [
    "import ee\n",
    "ee.Initialize() "
   ],
   "outputs": [],
   "metadata": {}
  },
  {
   "cell_type": "markdown",
   "source": [
    "### 2.- Cargar funcion"
   ],
   "metadata": {}
  },
  {
   "cell_type": "code",
   "execution_count": 3,
   "source": [
    "# importando otras librerias \n",
    "import os\n",
    "import geemap\n",
    "import numpy as np\n",
    "import pandas as pd\n",
    "import matplotlib.pyplot as plt\n",
    "#%matplotlib notebook"
   ],
   "outputs": [],
   "metadata": {}
  },
  {
   "cell_type": "markdown",
   "source": [
    "### 3.- Cargando datos Sentinel"
   ],
   "metadata": {}
  },
  {
   "cell_type": "code",
   "execution_count": 4,
   "source": [
    "# Poligono de interes\n",
    "path = \"./ShapeFile/POL_Cuenca_Chancay_AR_PEOT.shp\"\n",
    "#print(os.listdir(path))\n",
    "poly = geemap.shp_to_ee(path)\n",
    "# Extrayendo centroide\n",
    "#print(poly)\n",
    "coord = poly.getInfo()['features'][0]['geometry']['coordinates']\n",
    "center_pol = ee.Geometry.Polygon(coord).centroid().getInfo()['coordinates']\n"
   ],
   "outputs": [],
   "metadata": {}
  },
  {
   "cell_type": "code",
   "execution_count": 6,
   "source": [
    "#--------------------------------------------------------------\n",
    "# Cargando el lienso\n",
    "Map = geemap.Map(center= (center_pol[1],center_pol[0]), zoom=9.5)\n",
    "Map.add_basemap(\"SATELLITE\")\n",
    "# Cargando poligono\n",
    "Map.addLayer(poly, {}, 'Bofedal')\n",
    "Map\n",
    "#--------------------------------------------------------------"
   ],
   "outputs": [
    {
     "output_type": "display_data",
     "data": {
      "application/vnd.jupyter.widget-view+json": {
       "version_major": 2,
       "version_minor": 0,
       "model_id": "4aae1d91fdd2472dbe42e2c0a586f0b0"
      },
      "text/plain": [
       "Map(center=[-6.692171087956604, -79.81498944300296], controls=(WidgetControl(options=['position'], widget=HBox…"
      ]
     },
     "metadata": {}
    }
   ],
   "metadata": {}
  },
  {
   "cell_type": "code",
   "execution_count": 53,
   "source": [
    "# Parametro de fechas\n",
    "# Level-2A\n",
    "range_date = ['2020-10-01', '2020-10-15']\n",
    "# Cargando la colección de imágenes filtrando con fecha y region de interes. \n",
    "collection_S = ee.ImageCollection(\"COPERNICUS/S2_SR\")\\\n",
    "               .filterDate(range_date[0], range_date[1])\\\n",
    "               .filterBounds(poly).filter(ee.Filter.lt(\"CLOUDY_PIXEL_PERCENTAGE\", 20))\n",
    "# Contar numero de imagenes \n",
    "print('Sentinel: ', collection_S.size().getInfo()) \n",
    "#collection_S.getInfo()\n",
    "#print(collection_S)\n",
    "#print(collection_S.getInfo())"
   ],
   "outputs": [
    {
     "output_type": "stream",
     "name": "stdout",
     "text": [
      "Sentinel:  1\n"
     ]
    }
   ],
   "metadata": {}
  },
  {
   "cell_type": "code",
   "execution_count": 7,
   "source": [
    "# Cargando la imagen de interes.\n",
    "# 2019/10/14\n",
    "#img = ee.Image(\"COPERNICUS/S2_SR/20191014T153621_20191014T153622_T17MPN\").divide(10000)\n",
    "#2020/10/13\n",
    "img = ee.Image(\"COPERNICUS/S2_SR/20201003T153619_20201003T153759_T17MPN\").divide(10000)\n",
    "#img.getInfo()\n",
    "img.bandNames().getInfo()"
   ],
   "outputs": [
    {
     "output_type": "execute_result",
     "data": {
      "text/plain": [
       "['B1',\n",
       " 'B2',\n",
       " 'B3',\n",
       " 'B4',\n",
       " 'B5',\n",
       " 'B6',\n",
       " 'B7',\n",
       " 'B8',\n",
       " 'B8A',\n",
       " 'B9',\n",
       " 'B11',\n",
       " 'B12',\n",
       " 'AOT',\n",
       " 'WVP',\n",
       " 'SCL',\n",
       " 'TCI_R',\n",
       " 'TCI_G',\n",
       " 'TCI_B',\n",
       " 'MSK_CLDPRB',\n",
       " 'MSK_SNWPRB',\n",
       " 'QA10',\n",
       " 'QA20',\n",
       " 'QA60']"
      ]
     },
     "metadata": {},
     "execution_count": 7
    }
   ],
   "metadata": {}
  },
  {
   "cell_type": "code",
   "execution_count": 8,
   "source": [
    "# Visualizando la imagen\n",
    "#--------------------------------------------------------------\n",
    "sentinel_vis = {\n",
    "    'min': 0.0,\n",
    "    'max': 1,\n",
    "    'bands': [\"B6\", \"B3\", \"B2\"] }\n",
    "#--------------------------------------------------------------\n",
    "Map = geemap.Map(center=(center_pol[1],center_pol[0]), zoom=8.5)\n",
    "Map.add_basemap(\"SATELLITE\")\n",
    "Map.addLayer(img, sentinel_vis , 'Sentinel RGB')\n",
    "Map.addLayer(poly, {}, 'Cuenca')\n",
    "Map\n",
    "#--------------------------------------------------------------"
   ],
   "outputs": [
    {
     "output_type": "display_data",
     "data": {
      "application/vnd.jupyter.widget-view+json": {
       "version_major": 2,
       "version_minor": 0,
       "model_id": "342bd287d11b4c47a4417e68dc927da0"
      },
      "text/plain": [
       "Map(center=[-6.692171087956604, -79.81498944300296], controls=(WidgetControl(options=['position'], widget=HBox…"
      ]
     },
     "metadata": {}
    }
   ],
   "metadata": {}
  },
  {
   "cell_type": "code",
   "execution_count": 9,
   "source": [
    "# Funcion de corte (image.clip())\n",
    "#--------------------------------------------------------------\n",
    "cut_img = img.clip(poly)\n",
    "#--------------------------------------------------------------"
   ],
   "outputs": [],
   "metadata": {}
  },
  {
   "cell_type": "code",
   "execution_count": 11,
   "source": [
    "#--------------------------------------------------------------\n",
    "# Ploteando area de interes\n",
    "Map_cut = geemap.Map(center=(center_pol[1],center_pol[0]), zoom=10.0)\n",
    "Map_cut.add_basemap(\"SATELLITE\")\n",
    "Map_cut.addLayer(cut_img, sentinel_vis , 'Sentinel RGB')\n",
    "#Map_cut.addLayer(poly, {}, 'area agricola')\n",
    "Map_cut\n",
    "#--------------------------------------------------------------"
   ],
   "outputs": [
    {
     "output_type": "display_data",
     "data": {
      "application/vnd.jupyter.widget-view+json": {
       "version_major": 2,
       "version_minor": 0,
       "model_id": "d09e01e79a1c40e68300c8a72fa8800b"
      },
      "text/plain": [
       "Map(center=[-6.692171087956604, -79.81498944300296], controls=(WidgetControl(options=['position'], widget=HBox…"
      ]
     },
     "metadata": {}
    }
   ],
   "metadata": {}
  },
  {
   "cell_type": "markdown",
   "source": [
    "### 4. Construyendo K-means Model"
   ],
   "metadata": {}
  },
  {
   "cell_type": "code",
   "execution_count": 12,
   "source": [
    "#--------------------------------------------------------------\n",
    "# name bandas incluidas en el modelo\n",
    "bands = ['B2', 'B3', 'B4', 'B5', 'B6', 'B7','B8','B8A','B11','B12'] \n",
    "# seleccionando las bandas que incluira en el modelo\n",
    "sele_band = cut_img.select(bands)\n",
    "# ensamblando las muestras para el modelo\n",
    "muestra =  sele_band.sample(\n",
    "    region = poly,\n",
    "    numPixels = 5000,\n",
    "    scale = 20 )\n",
    "#\n",
    "muestra\n",
    "#--------------------------------------------------------------"
   ],
   "outputs": [
    {
     "output_type": "execute_result",
     "data": {
      "text/plain": [
       "<ee.featurecollection.FeatureCollection at 0x1244db670>"
      ]
     },
     "metadata": {},
     "execution_count": 12
    }
   ],
   "metadata": {}
  },
  {
   "cell_type": "code",
   "execution_count": 13,
   "source": [
    "# Instantiate the clusterer and train it.\n",
    "n_clusters = 4\n",
    "clusterer = ee.Clusterer.wekaKMeans(n_clusters).train(muestra)"
   ],
   "outputs": [],
   "metadata": {}
  },
  {
   "cell_type": "markdown",
   "source": [
    "### Classify the image"
   ],
   "metadata": {}
  },
  {
   "cell_type": "code",
   "execution_count": 14,
   "source": [
    "# Cluster the input using the trained clusterer.\n",
    "result = sele_band.cluster(clusterer)"
   ],
   "outputs": [],
   "metadata": {}
  },
  {
   "cell_type": "code",
   "execution_count": 49,
   "source": [
    "result.getInfo()\n",
    "\n",
    "#  Display the clusters with random colors.\n",
    "#Map.addLayer(result.randomVisualizer(), {}, 'clusters')\n",
    "#Map"
   ],
   "outputs": [
    {
     "output_type": "execute_result",
     "data": {
      "text/plain": [
       "{'type': 'Image',\n",
       " 'bands': [{'id': 'cluster',\n",
       "   'data_type': {'type': 'PixelType',\n",
       "    'precision': 'int',\n",
       "    'min': -2147483648,\n",
       "    'max': 2147483647},\n",
       "   'dimensions': [10980, 10980],\n",
       "   'crs': 'EPSG:32717',\n",
       "   'crs_transform': [10, 0, 600000, 0, -10, 9300040]}]}"
      ]
     },
     "metadata": {},
     "execution_count": 49
    }
   ],
   "metadata": {}
  },
  {
   "cell_type": "code",
   "execution_count": 15,
   "source": [
    "legend_keys = ['class1', 'class2', 'class3', 'class4']\n",
    "legend_colors = ['466b9f', 'd1def8', 'd99282', 'eb0000']\n",
    "# Reclassify the map\n",
    "result_re = result.remap([0, 1, 2, 3 ], [1, 2, 3 ,4 ])\n",
    "#\n",
    "Map_clas = geemap.Map(center=(center_pol[1],center_pol[0]), zoom=9.5)\n",
    "Map_clas.add_basemap(\"SATELLITE\")\n",
    "Map_clas.addLayer(cut_img, sentinel_vis , 'Sentinel RGB')\n",
    "Map_clas.addLayer(poly, {}, 'area agricola')\n",
    "Map_clas.addLayer(result_re, {min: 1, max: 5, 'palette': legend_colors}, \n",
    "                           'Labelled clusters')\n",
    "Map_clas.add_legend(legend_title='Leyenda',legend_keys=legend_keys, \n",
    "               legend_colors=legend_colors, \n",
    "               position='bottomright')\n",
    "Map_clas"
   ],
   "outputs": [
    {
     "output_type": "display_data",
     "data": {
      "application/vnd.jupyter.widget-view+json": {
       "version_major": 2,
       "version_minor": 0,
       "model_id": "baa908e895884bb1b6c526ecb79186dc"
      },
      "text/plain": [
       "Map(center=[-6.692171087956604, -79.81498944300296], controls=(WidgetControl(options=['position'], widget=HBox…"
      ]
     },
     "metadata": {}
    }
   ],
   "metadata": {}
  },
  {
   "cell_type": "code",
   "execution_count": 52,
   "source": [
    "print('Change layer opacity:')\n",
    "cluster_layer = Map_clas.layers[-1]\n",
    "cluster_layer.interact(opacity=(0, 1, 0.1))"
   ],
   "outputs": [
    {
     "output_type": "stream",
     "name": "stdout",
     "text": [
      "Change layer opacity:\n"
     ]
    },
    {
     "output_type": "display_data",
     "data": {
      "application/vnd.jupyter.widget-view+json": {
       "version_major": 2,
       "version_minor": 0,
       "model_id": "44eb862b882e4264b9bc9b0b07f248c5"
      },
      "text/plain": [
       "Box(children=(FloatSlider(value=1.0, description='opacity', max=1.0),))"
      ]
     },
     "metadata": {}
    }
   ],
   "metadata": {}
  },
  {
   "cell_type": "code",
   "execution_count": 16,
   "source": [
    "#--------------------------------------------------------------\n",
    "# exportando solo una imagen\n",
    "out_dir = os.path.join(os.path.expanduser('~'), 'Downloads')\n",
    "filename = os.path.join(out_dir, 'CV_03_10_2020.tif') \n",
    "#\n",
    "image = result\n",
    "#roi = new_coord \n",
    "roi = poly.getInfo()['features'][0]['geometry']['coordinates']\n",
    "geemap.ee_export_image(image, filename=filename, scale=30, region=roi, file_per_band=False)\n",
    "#--------------------------------------------------------------"
   ],
   "outputs": [
    {
     "output_type": "stream",
     "name": "stdout",
     "text": [
      "Generating URL ...\n",
      "Downloading data from https://earthengine.googleapis.com/v1alpha/projects/earthengine-legacy/thumbnails/ab09ba824a67a6144814706b36e58886-86e1b5652c92ec0f31c08dfa16433486:getPixels\n",
      "Please wait ...\n",
      "Data downloaded to /Users/erickprincipeaguirre/Downloads/CV_03_10_2020.tif\n"
     ]
    }
   ],
   "metadata": {}
  },
  {
   "cell_type": "code",
   "execution_count": 59,
   "source": [
    "# Otra manera - Descarga por link\n",
    "roi = poly.getInfo()['features'][0]['geometry']['coordinates']\n",
    "path = result_re.getDownloadURL({\n",
    "    \"scale\": 20,\n",
    "    \"crs\" : \"EPSG:4326\",\n",
    "    \"region\": roi })\n",
    "print(path)"
   ],
   "outputs": [
    {
     "output_type": "stream",
     "name": "stdout",
     "text": [
      "https://earthengine.googleapis.com/v1alpha/projects/earthengine-legacy/thumbnails/36c988c370d92fbeaaf0ba50838b6489-a462b9369fd1d8322b926dbcba5f550a:getPixels\n"
     ]
    }
   ],
   "metadata": {}
  }
 ],
 "metadata": {
  "interpreter": {
   "hash": "c462fbc174119284e6ce0192164c072446b3cebc36a15eb2f20c49bc65215e22"
  },
  "kernelspec": {
   "name": "python3",
   "display_name": "Python 3.9.6 64-bit ('neuron': venv)"
  },
  "language_info": {
   "codemirror_mode": {
    "name": "ipython",
    "version": 3
   },
   "file_extension": ".py",
   "mimetype": "text/x-python",
   "name": "python",
   "nbconvert_exporter": "python",
   "pygments_lexer": "ipython3",
   "version": "3.9.6"
  }
 },
 "nbformat": 4,
 "nbformat_minor": 2
}